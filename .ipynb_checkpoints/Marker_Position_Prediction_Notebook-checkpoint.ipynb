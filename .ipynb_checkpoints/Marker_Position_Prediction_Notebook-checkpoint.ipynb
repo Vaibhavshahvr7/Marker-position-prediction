{
 "cells": [
  {
   "cell_type": "markdown",
   "metadata": {
    "id": "L6Z4I91-hbsv"
   },
   "source": [
    "# **Marker Position prediction from IMU data using deep learning.**\n",
    "\n",
    "As a part of the Article: \n",
    "DOI: (Will be added)\n",
    "\n",
    "# Author: Vaibhav R. Shah and Philippe C. Dixon\n",
    "\n",
    "We recomand you run on jupyter notebook"
   ]
  },
  {
   "cell_type": "markdown",
   "metadata": {
    "id": "98IaL4T6h0IK"
   },
   "source": [
    "## Import required libraries"
   ]
  },
  {
   "cell_type": "code",
   "execution_count": 1,
   "metadata": {
    "executionInfo": {
     "elapsed": 4804,
     "status": "ok",
     "timestamp": 1735374365104,
     "user": {
      "displayName": "Vaibhav Shah",
      "userId": "05555234280990842588"
     },
     "user_tz": 300
    },
    "id": "9dLzqEH9hs96"
   },
   "outputs": [],
   "source": [
    "import sys\n",
    "import numpy as np\n",
    "import GaitLab2Go as GL2G\n",
    "import marker_prediction as mp\n",
    "import os\n",
    "import warnings\n",
    "\n",
    "# Suppress all warnings\n",
    "warnings.filterwarnings(\"ignore\")"
   ]
  },
  {
   "cell_type": "markdown",
   "metadata": {
    "id": "v9eJQjo6h35n"
   },
   "source": [
    "## Processing data"
   ]
  },
  {
   "cell_type": "code",
   "execution_count": 2,
   "metadata": {
    "executionInfo": {
     "elapsed": 137,
     "status": "ok",
     "timestamp": 1735374523989,
     "user": {
      "displayName": "Vaibhav Shah",
      "userId": "05555234280990842588"
     },
     "user_tz": 300
    },
    "id": "LXlNzEeAh_gu"
   },
   "outputs": [
    {
     "name": "stdout",
     "output_type": "stream",
     "text": [
      "Extracting data from .\\data\\pp054\\imu\\pp054_WT_01_cycle_1.zoo\n",
      "Extracting complete .\\data\\pp054\\imu\\pp054_WT_01_cycle_1.zoo\n",
      "saving as pickle file to .\\data\\pp054\\imu\\pp054_WT_01_cycle_1.pkl\n",
      "Extracting data from .\\data\\pp054\\imu\\pp054_WT_01_cycle_2.zoo\n",
      "Extracting complete .\\data\\pp054\\imu\\pp054_WT_01_cycle_2.zoo\n",
      "saving as pickle file to .\\data\\pp054\\imu\\pp054_WT_01_cycle_2.pkl\n",
      "['pp054']\n",
      "['.\\\\data\\\\pp054\\\\imu\\\\pp054_WT_01_cycle_1.pkl'\n",
      " '.\\\\data\\\\pp054\\\\imu\\\\pp054_WT_01_cycle_2.pkl']\n",
      "saving file to .\\data\\pp054\\imu\\pp054_WT_01_cycle_1.pkl\n",
      "saving file to .\\data\\pp054\\imu\\pp054_WT_01_cycle_2.pkl\n",
      ".\\data\\pp054\\imu\\pp054_WT_01_cycle_1.pkl\n",
      "walk\n",
      ".\\data\\pp054\\imu\\pp054_WT_01_cycle_2.pkl\n",
      "walk\n",
      "Saving data for LASI\n",
      "Saving data for RASI\n",
      "Saving data for LPSI\n",
      "Saving data for RPSI\n",
      "Saving data for LTHI\n",
      "Saving data for LKNE\n",
      "Saving data for LTIB\n",
      "Saving data for LANK\n",
      "Saving data for LHEE\n",
      "Saving data for LTOE\n",
      "Saving data for RTHI\n",
      "Saving data for RKNE\n",
      "Saving data for RTIB\n",
      "Saving data for RANK\n",
      "Saving data for RHEE\n",
      "Saving data for RTOE\n"
     ]
    }
   ],
   "source": [
    "import GaitLab2Go as GL2G\n",
    "lab=GL2G.data_processing()\n",
    "fld= os.path.join(\".\",\"data\", \"pp054\", \"imu\")\n",
    "ext='.zoo'\n",
    "\n",
    "#Converting .zoo files to .pkl files (Compatible with GaitLab2Go library)\n",
    "mp.convert_zoo2pickle()\n",
    "\n",
    "# Assign the subject list to the variable 'subject'\n",
    "subject_list = ['pp054']\n",
    "fld= os.path.join(\".\",\"data\", \"pp054\", \"imu\")\n",
    "ext='.pkl'\n",
    "variable = lab.variables_zoo_IMU()\n",
    "# Assign the file list to 'files' (previously found using lab.find_files)\n",
    "files = lab.find_files(path=fld, ext=ext) # Replace with your actual file list if needed\n",
    "\n",
    "# Call the process_subject_data_task function with the subject list, file list, and variable list\n",
    "result_data = mp.process_subject_data_task(subject_list, files, variable)\n",
    "\n",
    "\n",
    "mp.extracting_markerwise_data(result_data)\n"
   ]
  },
  {
   "cell_type": "markdown",
   "metadata": {
    "id": "EBD7p-Z8i5aV"
   },
   "source": [
    "# Testing deep learning Models"
   ]
  },
  {
   "cell_type": "code",
   "execution_count": 3,
   "metadata": {
    "executionInfo": {
     "elapsed": 138,
     "status": "ok",
     "timestamp": 1735374559431,
     "user": {
      "displayName": "Vaibhav Shah",
      "userId": "05555234280990842588"
     },
     "user_tz": 300
    },
    "id": "kR5psAAmAlv8"
   },
   "outputs": [
    {
     "name": "stdout",
     "output_type": "stream",
     "text": [
      "Loading IMU data for prediction\n",
      "Combining IMU data for prediction\n",
      "Converting IMU data Units to required units\n",
      "Angular velocity of gyroscope converted to radian/s from deg/s\n",
      "Linear acceleration data in m/s from g by multiplying with 9.81\n",
      "Rotating sensors to reorient gyroscope and accelerometer data\n",
      "Prediction Start\n",
      "\u001b[1m1/1\u001b[0m \u001b[32m━━━━━━━━━━━━━━━━━━━━\u001b[0m\u001b[37m\u001b[0m \u001b[1m7s\u001b[0m 7s/step\n",
      "\u001b[1m1/1\u001b[0m \u001b[32m━━━━━━━━━━━━━━━━━━━━\u001b[0m\u001b[37m\u001b[0m \u001b[1m6s\u001b[0m 6s/step\n",
      "\u001b[1m1/1\u001b[0m \u001b[32m━━━━━━━━━━━━━━━━━━━━\u001b[0m\u001b[37m\u001b[0m \u001b[1m6s\u001b[0m 6s/step\n",
      "\u001b[1m1/1\u001b[0m \u001b[32m━━━━━━━━━━━━━━━━━━━━\u001b[0m\u001b[37m\u001b[0m \u001b[1m5s\u001b[0m 5s/step\n",
      "WARNING:tensorflow:5 out of the last 5 calls to <function TensorFlowTrainer.make_predict_function.<locals>.one_step_on_data_distributed at 0x0000025B377C3E20> triggered tf.function retracing. Tracing is expensive and the excessive number of tracings could be due to (1) creating @tf.function repeatedly in a loop, (2) passing tensors with different shapes, (3) passing Python objects instead of tensors. For (1), please define your @tf.function outside of the loop. For (2), @tf.function has reduce_retracing=True option that can avoid unnecessary retracing. For (3), please refer to https://www.tensorflow.org/guide/function#controlling_retracing and https://www.tensorflow.org/api_docs/python/tf/function for  more details.\n",
      "\u001b[1m1/1\u001b[0m \u001b[32m━━━━━━━━━━━━━━━━━━━━\u001b[0m\u001b[37m\u001b[0m \u001b[1m6s\u001b[0m 6s/step\n",
      "WARNING:tensorflow:6 out of the last 6 calls to <function TensorFlowTrainer.make_predict_function.<locals>.one_step_on_data_distributed at 0x0000025B3A76C3A0> triggered tf.function retracing. Tracing is expensive and the excessive number of tracings could be due to (1) creating @tf.function repeatedly in a loop, (2) passing tensors with different shapes, (3) passing Python objects instead of tensors. For (1), please define your @tf.function outside of the loop. For (2), @tf.function has reduce_retracing=True option that can avoid unnecessary retracing. For (3), please refer to https://www.tensorflow.org/guide/function#controlling_retracing and https://www.tensorflow.org/api_docs/python/tf/function for  more details.\n",
      "\u001b[1m1/1\u001b[0m \u001b[32m━━━━━━━━━━━━━━━━━━━━\u001b[0m\u001b[37m\u001b[0m \u001b[1m6s\u001b[0m 6s/step\n",
      "\u001b[1m1/1\u001b[0m \u001b[32m━━━━━━━━━━━━━━━━━━━━\u001b[0m\u001b[37m\u001b[0m \u001b[1m5s\u001b[0m 5s/step\n",
      "\u001b[1m1/1\u001b[0m \u001b[32m━━━━━━━━━━━━━━━━━━━━\u001b[0m\u001b[37m\u001b[0m \u001b[1m5s\u001b[0m 5s/step\n",
      "\u001b[1m1/1\u001b[0m \u001b[32m━━━━━━━━━━━━━━━━━━━━\u001b[0m\u001b[37m\u001b[0m \u001b[1m6s\u001b[0m 6s/step\n",
      "\u001b[1m1/1\u001b[0m \u001b[32m━━━━━━━━━━━━━━━━━━━━\u001b[0m\u001b[37m\u001b[0m \u001b[1m7s\u001b[0m 7s/step\n",
      "\u001b[1m1/1\u001b[0m \u001b[32m━━━━━━━━━━━━━━━━━━━━\u001b[0m\u001b[37m\u001b[0m \u001b[1m6s\u001b[0m 6s/step\n",
      "\u001b[1m1/1\u001b[0m \u001b[32m━━━━━━━━━━━━━━━━━━━━\u001b[0m\u001b[37m\u001b[0m \u001b[1m6s\u001b[0m 6s/step\n",
      "\u001b[1m1/1\u001b[0m \u001b[32m━━━━━━━━━━━━━━━━━━━━\u001b[0m\u001b[37m\u001b[0m \u001b[1m5s\u001b[0m 5s/step\n",
      "\u001b[1m1/1\u001b[0m \u001b[32m━━━━━━━━━━━━━━━━━━━━\u001b[0m\u001b[37m\u001b[0m \u001b[1m7s\u001b[0m 7s/step\n",
      "\u001b[1m1/1\u001b[0m \u001b[32m━━━━━━━━━━━━━━━━━━━━\u001b[0m\u001b[37m\u001b[0m \u001b[1m7s\u001b[0m 7s/step\n",
      "\u001b[1m1/1\u001b[0m \u001b[32m━━━━━━━━━━━━━━━━━━━━\u001b[0m\u001b[37m\u001b[0m \u001b[1m5s\u001b[0m 5s/step\n",
      "\u001b[1m1/1\u001b[0m \u001b[32m━━━━━━━━━━━━━━━━━━━━\u001b[0m\u001b[37m\u001b[0m \u001b[1m5s\u001b[0m 5s/step\n",
      "\u001b[1m1/1\u001b[0m \u001b[32m━━━━━━━━━━━━━━━━━━━━\u001b[0m\u001b[37m\u001b[0m \u001b[1m5s\u001b[0m 5s/step\n",
      "Prediction Complete\n",
      "Saving the average predtion data of markers in a .mat and .pkl file\n"
     ]
    }
   ],
   "source": [
    "data_LASI, train=mp.loading_predition_data(fld = os.path.join(\".\",\"data\", \"pp054\", \"predicted_markers\"))\n",
    "\n",
    "\n",
    "fld=os.path.join(\".\",\"data\", \"pp054\", \"predicted_markers\")\n",
    "# List of participants (can be extended to include more)\n",
    "participants = ['pp054']\n",
    "Select_subject=['pp054']\n",
    "print(\"Prediction Start\")\n",
    "participants_data = mp.predict_marker_position(fld,participants,data_LASI, train, Select_subject)\n",
    "print(\"Prediction Complete\")\n",
    "\n",
    "fld=os.path.join(\".\",\"data\", \"pp054\", \"predicted_markers\")\n",
    "mp.average_prediction(fld,participants_data,participants)"
   ]
  },
  {
   "cell_type": "markdown",
   "metadata": {
    "executionInfo": {
     "elapsed": 255,
     "status": "ok",
     "timestamp": 1735374869862,
     "user": {
      "displayName": "Vaibhav Shah",
      "userId": "05555234280990842588"
     },
     "user_tz": 300
    },
    "id": "SJRe_F9pGP5A"
   },
   "source": [
    "# Visualizing predicted marker positions\n",
    "\n",
    "**Walking Stick Skeleton** "
   ]
  },
  {
   "cell_type": "code",
   "execution_count": 4,
   "metadata": {},
   "outputs": [],
   "source": [
    "import matplotlib.pyplot as plt\n",
    "# Set an interactive backend\n",
    "%matplotlib qt5\n",
    "mp.visulize_predicted_data()"
   ]
  }
 ],
 "metadata": {
  "colab": {
   "provenance": [
    {
     "file_id": "1l2mVxX7acCzl2x8_ssLTLuObg6DKV1Kx",
     "timestamp": 1735361360170
    }
   ]
  },
  "kernelspec": {
   "display_name": "Python (Marker-position)",
   "language": "python",
   "name": "marker-position"
  },
  "language_info": {
   "codemirror_mode": {
    "name": "ipython",
    "version": 3
   },
   "file_extension": ".py",
   "mimetype": "text/x-python",
   "name": "python",
   "nbconvert_exporter": "python",
   "pygments_lexer": "ipython3",
   "version": "3.10.16"
  }
 },
 "nbformat": 4,
 "nbformat_minor": 4
}
