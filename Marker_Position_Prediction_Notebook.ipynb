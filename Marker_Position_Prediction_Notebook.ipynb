{
 "cells": [
  {
   "cell_type": "markdown",
   "metadata": {
    "id": "L6Z4I91-hbsv"
   },
   "source": [
    "# **Marker Position prediction from IMU data using deep learning.**\n",
    "\n",
    "As a part of the Article: Bridging The Gap Between Optical Motion Capture and Inertial Measurement Unit Technology: A Deep Learning Approach to Joint Kinematic Modeling\n",
    "\n",
    "Journal Name: IEEE Journal of Biomedical and Health Informatics\n",
    "\n",
    "DOI: (Will be added)\n",
    "\n",
    "# Author: Vaibhav R. Shah and Philippe C. Dixon\n",
    "\n",
    "We recomand you run on jupyter notebook"
   ]
  },
  {
   "cell_type": "markdown",
   "metadata": {
    "id": "98IaL4T6h0IK"
   },
   "source": [
    "## Import required libraries"
   ]
  },
  {
   "cell_type": "code",
   "execution_count": 1,
   "metadata": {
    "executionInfo": {
     "elapsed": 4804,
     "status": "ok",
     "timestamp": 1735374365104,
     "user": {
      "displayName": "Vaibhav Shah",
      "userId": "05555234280990842588"
     },
     "user_tz": 300
    },
    "id": "9dLzqEH9hs96"
   },
   "outputs": [],
   "source": [
    "import sys\n",
    "import numpy as np\n",
    "import GaitLab2Go as GL2G\n",
    "import marker_prediction as mp\n",
    "import os"
   ]
  },
  {
   "cell_type": "markdown",
   "metadata": {
    "id": "v9eJQjo6h35n"
   },
   "source": [
    "## Processing data"
   ]
  },
  {
   "cell_type": "code",
   "execution_count": 5,
   "metadata": {
    "executionInfo": {
     "elapsed": 137,
     "status": "ok",
     "timestamp": 1735374523989,
     "user": {
      "displayName": "Vaibhav Shah",
      "userId": "05555234280990842588"
     },
     "user_tz": 300
    },
    "id": "LXlNzEeAh_gu"
   },
   "outputs": [
    {
     "name": "stdout",
     "output_type": "stream",
     "text": [
      "Extracting data from .\\data\\pp054\\imu\\pp054_WT_01_cycle_1.zoo\n",
      "Extracting complete .\\data\\pp054\\imu\\pp054_WT_01_cycle_1.zoo\n",
      "saving as pickle file to .\\data\\pp054\\imu\\pp054_WT_01_cycle_1.pkl\n",
      "Extracting data from .\\data\\pp054\\imu\\pp054_WT_01_cycle_2.zoo\n",
      "Extracting complete .\\data\\pp054\\imu\\pp054_WT_01_cycle_2.zoo\n",
      "saving as pickle file to .\\data\\pp054\\imu\\pp054_WT_01_cycle_2.pkl\n",
      "['pp054']\n",
      "['.\\\\data\\\\pp054\\\\imu\\\\pp054_WT_01_cycle_1.pkl'\n",
      " '.\\\\data\\\\pp054\\\\imu\\\\pp054_WT_01_cycle_2.pkl']\n",
      "saving file to .\\data\\pp054\\imu\\pp054_WT_01_cycle_1.pkl\n",
      "saving file to .\\data\\pp054\\imu\\pp054_WT_01_cycle_2.pkl\n",
      ".\\data\\pp054\\imu\\pp054_WT_01_cycle_1.pkl\n",
      "walk\n",
      ".\\data\\pp054\\imu\\pp054_WT_01_cycle_2.pkl\n",
      "walk\n",
      "Saving data for LASI\n",
      "Saving data for RASI\n",
      "Saving data for LPSI\n",
      "Saving data for RPSI\n",
      "Saving data for LTHI\n",
      "Saving data for LKNE\n",
      "Saving data for LTIB\n",
      "Saving data for LANK\n",
      "Saving data for LHEE\n",
      "Saving data for LTOE\n",
      "Saving data for RTHI\n",
      "Saving data for RKNE\n",
      "Saving data for RTIB\n",
      "Saving data for RANK\n",
      "Saving data for RHEE\n",
      "Saving data for RTOE\n"
     ]
    }
   ],
   "source": [
    "\n",
    "# Initialize a data processing object from the GaitLab2Go library\n",
    "lab = GL2G.data_processing()\n",
    "\n",
    "# Define the folder path and file extension for input data files\n",
    "fld = os.path.join(\".\", \"data\", \"pp054\", \"imu\")\n",
    "ext = '.zoo'\n",
    "\n",
    "# Convert .zoo files to .pkl files (compatible with GaitLab2Go)\n",
    "# This function processes the IMU data files and converts them to a more manageable pickle format.\n",
    "mp.convert_zoo2pickle()\n",
    "\n",
    "# Define the list of subjects to process\n",
    "subject_list = ['pp054']\n",
    "\n",
    "# Update the folder path and file extension for the converted files\n",
    "fld = os.path.join(\".\", \"data\", \"pp054\", \"imu\")\n",
    "ext = '.pkl'\n",
    "\n",
    "# Retrieve the list of IMU variables from the GaitLab2Go library\n",
    "# This provides the variable names corresponding to the IMU data that will be processed.\n",
    "variable = lab.variables_zoo_IMU()\n",
    "\n",
    "# Find the list of all .pkl files in the specified folder\n",
    "# This uses the GaitLab2Go `find_files` function to identify relevant files for processing.\n",
    "files = lab.find_files(path=fld, ext=ext)\n",
    "\n",
    "# Process the subject data for specific tasks\n",
    "# This function organizes and structures the IMU data for each subject, task, and variable.\n",
    "result_data = mp.process_subject_data_task(subject_list, files, variable)\n",
    "\n",
    "# Extract and save data for each marker in the processed result data\n",
    "# This step is critical for breaking down the data into individual marker-wise files, which can later be used for analysis or modeling.\n",
    "mp.extracting_markerwise_data(result_data)\n"
   ]
  },
  {
   "cell_type": "markdown",
   "metadata": {
    "id": "EBD7p-Z8i5aV"
   },
   "source": [
    "# Testing deep learning Models"
   ]
  },
  {
   "cell_type": "code",
   "execution_count": 6,
   "metadata": {
    "executionInfo": {
     "elapsed": 138,
     "status": "ok",
     "timestamp": 1735374559431,
     "user": {
      "displayName": "Vaibhav Shah",
      "userId": "05555234280990842588"
     },
     "user_tz": 300
    },
    "id": "kR5psAAmAlv8"
   },
   "outputs": [
    {
     "name": "stdout",
     "output_type": "stream",
     "text": [
      "Loading IMU data for prediction\n",
      "Combining IMU data for prediction\n",
      "Converting IMU data Units to required units\n",
      "Angular velocity of gyroscope converted to radian/s from deg/s\n",
      "Linear acceleration data in m/s from g by multiplying with 9.81\n",
      "Rotating sensors to reorient gyroscope and accelerometer data\n",
      "Prediction Start\n",
      "\u001b[1m1/1\u001b[0m \u001b[32m━━━━━━━━━━━━━━━━━━━━\u001b[0m\u001b[37m\u001b[0m \u001b[1m6s\u001b[0m 6s/step\n",
      "\u001b[1m1/1\u001b[0m \u001b[32m━━━━━━━━━━━━━━━━━━━━\u001b[0m\u001b[37m\u001b[0m \u001b[1m6s\u001b[0m 6s/step\n",
      "\u001b[1m1/1\u001b[0m \u001b[32m━━━━━━━━━━━━━━━━━━━━\u001b[0m\u001b[37m\u001b[0m \u001b[1m7s\u001b[0m 7s/step\n",
      "\u001b[1m1/1\u001b[0m \u001b[32m━━━━━━━━━━━━━━━━━━━━\u001b[0m\u001b[37m\u001b[0m \u001b[1m8s\u001b[0m 8s/step\n",
      "\u001b[1m1/1\u001b[0m \u001b[32m━━━━━━━━━━━━━━━━━━━━\u001b[0m\u001b[37m\u001b[0m \u001b[1m6s\u001b[0m 6s/step\n",
      "\u001b[1m1/1\u001b[0m \u001b[32m━━━━━━━━━━━━━━━━━━━━\u001b[0m\u001b[37m\u001b[0m \u001b[1m6s\u001b[0m 6s/step\n",
      "\u001b[1m1/1\u001b[0m \u001b[32m━━━━━━━━━━━━━━━━━━━━\u001b[0m\u001b[37m\u001b[0m \u001b[1m6s\u001b[0m 6s/step\n",
      "\u001b[1m1/1\u001b[0m \u001b[32m━━━━━━━━━━━━━━━━━━━━\u001b[0m\u001b[37m\u001b[0m \u001b[1m6s\u001b[0m 6s/step\n",
      "\u001b[1m1/1\u001b[0m \u001b[32m━━━━━━━━━━━━━━━━━━━━\u001b[0m\u001b[37m\u001b[0m \u001b[1m6s\u001b[0m 6s/step\n",
      "\u001b[1m1/1\u001b[0m \u001b[32m━━━━━━━━━━━━━━━━━━━━\u001b[0m\u001b[37m\u001b[0m \u001b[1m6s\u001b[0m 6s/step\n",
      "\u001b[1m1/1\u001b[0m \u001b[32m━━━━━━━━━━━━━━━━━━━━\u001b[0m\u001b[37m\u001b[0m \u001b[1m6s\u001b[0m 6s/step\n",
      "\u001b[1m1/1\u001b[0m \u001b[32m━━━━━━━━━━━━━━━━━━━━\u001b[0m\u001b[37m\u001b[0m \u001b[1m6s\u001b[0m 6s/step\n",
      "\u001b[1m1/1\u001b[0m \u001b[32m━━━━━━━━━━━━━━━━━━━━\u001b[0m\u001b[37m\u001b[0m \u001b[1m6s\u001b[0m 6s/step\n",
      "\u001b[1m1/1\u001b[0m \u001b[32m━━━━━━━━━━━━━━━━━━━━\u001b[0m\u001b[37m\u001b[0m \u001b[1m6s\u001b[0m 6s/step\n",
      "\u001b[1m1/1\u001b[0m \u001b[32m━━━━━━━━━━━━━━━━━━━━\u001b[0m\u001b[37m\u001b[0m \u001b[1m7s\u001b[0m 7s/step\n",
      "\u001b[1m1/1\u001b[0m \u001b[32m━━━━━━━━━━━━━━━━━━━━\u001b[0m\u001b[37m\u001b[0m \u001b[1m7s\u001b[0m 7s/step\n",
      "\u001b[1m1/1\u001b[0m \u001b[32m━━━━━━━━━━━━━━━━━━━━\u001b[0m\u001b[37m\u001b[0m \u001b[1m8s\u001b[0m 8s/step\n",
      "\u001b[1m1/1\u001b[0m \u001b[32m━━━━━━━━━━━━━━━━━━━━\u001b[0m\u001b[37m\u001b[0m \u001b[1m7s\u001b[0m 7s/step\n",
      "Prediction Complete\n",
      "Saving the average predtion data of markers in a .mat and .pkl file\n"
     ]
    }
   ],
   "source": [
    "# Load the IMU data and training data from the predicted markers directory\n",
    "# This function processes previously extracted marker data to prepare it for model predictions.\n",
    "data_subject, train = mp.loading_predition_data(fld=os.path.join(\".\", \"data\", \"pp054\", \"predicted_markers\"))\n",
    "\n",
    "# Define the folder path where predicted marker data is stored\n",
    "fld = os.path.join(\".\", \"data\", \"pp054\", \"predicted_markers\")\n",
    "\n",
    "# Define the list of participants for which marker positions will be predicted\n",
    "participants = ['pp054']  # Example subject; can be extended for multiple participants\n",
    "\n",
    "# Define the subject list for prediction\n",
    "Select_subject = ['pp054']  # List of selected subjects for processing\n",
    "\n",
    "# Start the prediction process for marker positions\n",
    "print(\"Prediction Start\")\n",
    "# Predict marker positions using IMU data and a pre-trained model\n",
    "# This function loads subject-specific models, applies the model to test data, and saves predictions.\n",
    "participants_data = mp.predict_marker_position(fld, participants, data_subject, train, Select_subject)\n",
    "print(\"Prediction Complete\")\n",
    "\n",
    "# Define the folder path again for storing averaged prediction data\n",
    "fld = os.path.join(\".\", \"data\", \"pp054\", \"predicted_markers\")\n",
    "\n",
    "# Compute and save the average marker predictions across participants\n",
    "# This function aggregates predictions from multiple subjects and stores averaged results for analysis.\n",
    "mp.average_prediction(fld, participants_data, participants)\n"
   ]
  },
  {
   "cell_type": "markdown",
   "metadata": {},
   "source": [
    "# Joint Angle calculations\n",
    "\n",
    "**For calculating joint angle and comparing with optical marker based joint angles run Kinematics_calculation.m**"
   ]
  },
  {
   "cell_type": "markdown",
   "metadata": {
    "executionInfo": {
     "elapsed": 255,
     "status": "ok",
     "timestamp": 1735374869862,
     "user": {
      "displayName": "Vaibhav Shah",
      "userId": "05555234280990842588"
     },
     "user_tz": 300
    },
    "id": "SJRe_F9pGP5A"
   },
   "source": [
    "# Visualizing predicted marker positions\n",
    "\n",
    "**Walking Stick Skeleton** "
   ]
  },
  {
   "cell_type": "code",
   "execution_count": 7,
   "metadata": {},
   "outputs": [],
   "source": [
    "import matplotlib.pyplot as plt\n",
    "\n",
    "# Set the interactive backend for Matplotlib\n",
    "# This backend allows interactive windows to display visualizations, enabling 3D rotations, zooming, etc.\n",
    "%matplotlib qt5\n",
    "\n",
    "# Visualize the predicted marker data\n",
    "# This function uses the predicted marker data to create a 3D visualization of the movement trajectories.\n",
    "mp.visulize_predicted_data()\n"
   ]
  },
  {
   "cell_type": "code",
   "execution_count": null,
   "metadata": {},
   "outputs": [],
   "source": []
  }
 ],
 "metadata": {
  "colab": {
   "provenance": [
    {
     "file_id": "1l2mVxX7acCzl2x8_ssLTLuObg6DKV1Kx",
     "timestamp": 1735361360170
    }
   ]
  },
  "kernelspec": {
   "display_name": "Python (Marker-position)",
   "language": "python",
   "name": "marker-position"
  },
  "language_info": {
   "codemirror_mode": {
    "name": "ipython",
    "version": 3
   },
   "file_extension": ".py",
   "mimetype": "text/x-python",
   "name": "python",
   "nbconvert_exporter": "python",
   "pygments_lexer": "ipython3",
   "version": "3.10.16"
  }
 },
 "nbformat": 4,
 "nbformat_minor": 4
}
